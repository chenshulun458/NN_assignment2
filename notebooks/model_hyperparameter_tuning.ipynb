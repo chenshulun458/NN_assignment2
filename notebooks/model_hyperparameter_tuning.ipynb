{
 "cells": [
  {
   "cell_type": "code",
   "execution_count": 4,
   "metadata": {},
   "outputs": [
    {
     "name": "stdout",
     "output_type": "stream",
     "text": [
      "Fitting 5 folds for each of 216 candidates, totalling 1080 fits\n"
     ]
    },
    {
     "name": "stderr",
     "output_type": "stream",
     "text": [
      "d:\\python3.10\\lib\\site-packages\\sklearn\\ensemble\\_stacking.py:970: DataConversionWarning: A column-vector y was passed when a 1d array was expected. Please change the shape of y to (n_samples, ), for example using ravel().\n",
      "  y = column_or_1d(y, warn=True)\n",
      "d:\\python3.10\\lib\\site-packages\\sklearn\\neural_network\\_multilayer_perceptron.py:690: ConvergenceWarning: Stochastic Optimizer: Maximum iterations (200) reached and the optimization hasn't converged yet.\n",
      "  warnings.warn(\n",
      "d:\\python3.10\\lib\\site-packages\\sklearn\\neural_network\\_multilayer_perceptron.py:690: ConvergenceWarning: Stochastic Optimizer: Maximum iterations (200) reached and the optimization hasn't converged yet.\n",
      "  warnings.warn(\n",
      "d:\\python3.10\\lib\\site-packages\\sklearn\\neural_network\\_multilayer_perceptron.py:690: ConvergenceWarning: Stochastic Optimizer: Maximum iterations (200) reached and the optimization hasn't converged yet.\n",
      "  warnings.warn(\n",
      "d:\\python3.10\\lib\\site-packages\\sklearn\\neural_network\\_multilayer_perceptron.py:690: ConvergenceWarning: Stochastic Optimizer: Maximum iterations (200) reached and the optimization hasn't converged yet.\n",
      "  warnings.warn(\n",
      "d:\\python3.10\\lib\\site-packages\\sklearn\\neural_network\\_multilayer_perceptron.py:690: ConvergenceWarning: Stochastic Optimizer: Maximum iterations (200) reached and the optimization hasn't converged yet.\n",
      "  warnings.warn(\n",
      "d:\\python3.10\\lib\\site-packages\\sklearn\\neural_network\\_multilayer_perceptron.py:690: ConvergenceWarning: Stochastic Optimizer: Maximum iterations (200) reached and the optimization hasn't converged yet.\n",
      "  warnings.warn(\n"
     ]
    },
    {
     "name": "stdout",
     "output_type": "stream",
     "text": [
      "Best parameters found: {'mlp__hidden_layer_sizes': (100,), 'mlp__learning_rate_init': 0.001, 'rf__max_depth': None, 'rf__n_estimators': 200, 'svr__C': 10, 'svr__epsilon': 0.1}\n",
      "Test set score: 0.5043\n"
     ]
    }
   ],
   "source": [
    "import pandas as pd\n",
    "import numpy as np\n",
    "import matplotlib.pyplot as plt\n",
    "import seaborn as sns\n",
    "from sklearn.linear_model import LinearRegression, LogisticRegression\n",
    "from sklearn.metrics import mean_squared_error, r2_score, roc_auc_score, accuracy_score\n",
    "from sklearn.preprocessing import MinMaxScaler, StandardScaler\n",
    "from sklearn.neural_network import MLPRegressor\n",
    "from sklearn.model_selection import train_test_split\n",
    "from sklearn.ensemble import RandomForestRegressor, StackingRegressor\n",
    "from sklearn.svm import SVR\n",
    "from sklearn.pipeline import make_pipeline\n",
    "from sklearn.model_selection import GridSearchCV\n",
    "\n",
    "def load_data():\n",
    "    \"\"\"load data\"\"\"\n",
    "    X_train = pd.read_csv('C:/Users/Admin/Desktop/NN_Assignment2/data/X_train.csv')\n",
    "    X_test = pd.read_csv('C:/Users/Admin/Desktop/NN_Assignment2/data/X_test.csv')\n",
    "    y_train = pd.read_csv('C:/Users/Admin/Desktop/NN_Assignment2/data/y_train.csv')\n",
    "    y_test = pd.read_csv('C:/Users/Admin/Desktop/NN_Assignment2/data/y_test.csv')\n",
    "    return X_train, X_test, y_train, y_test\n",
    "\n",
    "X_train, X_test, y_train, y_test = load_data()\n",
    "X = pd.concat([X_train, X_test], axis=0)\n",
    "y = pd.concat([y_train, y_test], axis=0)\n",
    "\n",
    "#LOGISTIC REGRESSION\n",
    "# param_grid = {'C': [0.01, 0.1, 1, 10, 100]}\n",
    "# log_reg = LogisticRegression(class_weight='balanced')\n",
    "# grid = GridSearchCV(log_reg, param_grid, cv=5)\n",
    "# grid.fit(X_train, y_train)\n",
    "# print(grid.best_params_)\n",
    "\n",
    "\n",
    "#NEURAL NETWORK\n",
    "# param_grid = {\n",
    "#     'hidden_layer_sizes': [(50,), (100,), (100, 50)],\n",
    "#     'learning_rate_init': [0.01, 0.001, 0.0001],\n",
    "# }\n",
    "# mlp = MLPRegressor(max_iter=2000)\n",
    "# grid_search = GridSearchCV(mlp, param_grid, cv=5)\n",
    "# grid_search.fit(X_train, y_train)\n",
    "# print(grid_search.best_params_)\n",
    "\n",
    "\n",
    "# FUSION\n",
    "base_models = [\n",
    "    (\"lr\", LinearRegression()),  \n",
    "    (\"rf\", RandomForestRegressor(random_state=42)),\n",
    "    (\"svr\", SVR()),\n",
    "    (\"mlp\", MLPRegressor(random_state=42))\n",
    "]\n",
    "\n",
    "# 定义堆叠模型\n",
    "stacking_model = StackingRegressor(estimators=base_models, final_estimator=RandomForestRegressor(random_state=42))\n",
    "\n",
    "# 定义参数网格，用于调优基础模型和堆叠模型\n",
    "param_grid = {\n",
    "    'rf__n_estimators': [50, 100, 200],\n",
    "    'rf__max_depth': [10, 20, None],\n",
    "    'svr__C': [0.1, 1, 10],\n",
    "    'svr__epsilon': [0.1, 0.2],\n",
    "    'mlp__hidden_layer_sizes': [(100,), (100, 50)],\n",
    "    'mlp__learning_rate_init': [0.001, 0.01]\n",
    "}\n",
    "\n",
    "# 使用GridSearchCV进行超参数调优\n",
    "grid_search = GridSearchCV(estimator=stacking_model, param_grid=param_grid, cv=5, n_jobs=-1, verbose=2)\n",
    "grid_search.fit(X_train, y_train)\n",
    "\n",
    "# 输出最佳参数组合\n",
    "print(f\"Best parameters found: {grid_search.best_params_}\")\n",
    "\n",
    "# 使用最佳参数组合评估模型\n",
    "best_model = grid_search.best_estimator_\n",
    "score = best_model.score(X_test, y_test)\n",
    "print(f\"Test set score: {score:.4f}\")\n",
    "\n",
    "\n",
    "# output\n",
    "# Best parameters found: {'mlp__hidden_layer_sizes': (100,), 'mlp__learning_rate_init': 0.001, 'rf__max_depth': 10, 'rf__n_estimators': 200, 'svr__C': 10, 'svr__epsilon': 0.1}"
   ]
  }
 ],
 "metadata": {
  "kernelspec": {
   "display_name": "Python 3",
   "language": "python",
   "name": "python3"
  },
  "language_info": {
   "codemirror_mode": {
    "name": "ipython",
    "version": 3
   },
   "file_extension": ".py",
   "mimetype": "text/x-python",
   "name": "python",
   "nbconvert_exporter": "python",
   "pygments_lexer": "ipython3",
   "version": "3.10.9"
  }
 },
 "nbformat": 4,
 "nbformat_minor": 2
}
